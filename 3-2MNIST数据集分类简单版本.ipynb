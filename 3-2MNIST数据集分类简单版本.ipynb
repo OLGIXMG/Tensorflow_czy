{
 "cells": [
  {
   "cell_type": "code",
   "execution_count": 1,
   "metadata": {},
   "outputs": [],
   "source": [
    "import tensorflow as tf\n",
    "from tensorflow.examples.tutorials.mnist import input_data"
   ]
  },
  {
   "cell_type": "code",
   "execution_count": 5,
   "metadata": {},
   "outputs": [
    {
     "name": "stdout",
     "output_type": "stream",
     "text": [
      "Extracting MNIST_data\\train-images-idx3-ubyte.gz\n",
      "Extracting MNIST_data\\train-labels-idx1-ubyte.gz\n",
      "Extracting MNIST_data\\t10k-images-idx3-ubyte.gz\n",
      "Extracting MNIST_data\\t10k-labels-idx1-ubyte.gz\n",
      "Iter0,Testing Accurary 0.7967\n",
      "Iter1,Testing Accurary 0.8695\n",
      "Iter2,Testing Accurary 0.879\n",
      "Iter3,Testing Accurary 0.888\n",
      "Iter4,Testing Accurary 0.8924\n",
      "Iter5,Testing Accurary 0.8953\n",
      "Iter6,Testing Accurary 0.8983\n",
      "Iter7,Testing Accurary 0.9011\n",
      "Iter8,Testing Accurary 0.9018\n",
      "Iter9,Testing Accurary 0.904\n",
      "Iter10,Testing Accurary 0.9046\n",
      "Iter11,Testing Accurary 0.9061\n",
      "Iter12,Testing Accurary 0.9074\n",
      "Iter13,Testing Accurary 0.9077\n",
      "Iter14,Testing Accurary 0.9085\n",
      "Iter15,Testing Accurary 0.9105\n",
      "Iter16,Testing Accurary 0.9101\n",
      "Iter17,Testing Accurary 0.9113\n",
      "Iter18,Testing Accurary 0.9113\n",
      "Iter19,Testing Accurary 0.9122\n",
      "Iter20,Testing Accurary 0.9131\n"
     ]
    }
   ],
   "source": [
    "# 载入数据库\n",
    "mnist = input_data.read_data_sets('MNIST_data',one_hot=True)\n",
    "\n",
    "# 每个批次的大小\n",
    "batch_size = 100\n",
    "# 计算一共有多少个批次\n",
    "n_batch = mnist.train.num_examples //batch_size\n",
    "\n",
    "# 定义两个placeholder\n",
    "x = tf.placeholder(tf.float32,[None,784])\n",
    "y = tf.placeholder(tf.float32,[None,10])\n",
    "\n",
    "# 创建一个简单的神经网络\n",
    "W = tf.Variable(tf.zeros([784,10]))\n",
    "b = tf.Variable(tf.zeros([10]))\n",
    "prediction = tf.nn.softmax(tf.matmul(x,W)) + b\n",
    "\n",
    "# 定义二次代价函数\n",
    "loss = tf.reduce_mean(tf.square(y-prediction))\n",
    "# loss = tf.reduce_mean(tf.nn.softmax_cross_entropy_with_logits(labels=y,logits=prediction))\n",
    "# 使用梯度下降法\n",
    "train_step = tf.train.GradientDescentOptimizer(0.2).minimize(loss)\n",
    "\n",
    "# 初始化变量\n",
    "init =  tf.global_variables_initializer()\n",
    "\n",
    "# 结果存放在一个布尔型列表中\n",
    "correct_prediction = tf.equal(tf.argmax(y,1),tf.argmax(prediction,1)) # argmax返回一维常量中最大值所在的位置\n",
    "# 求准确率\n",
    "accurary = tf.reduce_mean(tf.cast(correct_prediction,tf.float32))\n",
    "\n",
    "with tf.Session() as sess:\n",
    "    sess.run(init)\n",
    "    for epoch in range(21):\n",
    "         for batch in range(n_batch):\n",
    "                batch_xs,batch_ys = mnist.train.next_batch(batch_size)\n",
    "                sess.run(train_step,feed_dict={x:batch_xs,y:batch_ys})\n",
    "         acc = sess.run(accurary,feed_dict={x:mnist.test.images,y:mnist.test.labels})\n",
    "         print(\"Iter\" + str(epoch) + \",Testing Accurary \" + str(acc))"
   ]
  },
  {
   "cell_type": "code",
   "execution_count": null,
   "metadata": {},
   "outputs": [],
   "source": []
  }
 ],
 "metadata": {
  "kernelspec": {
   "display_name": "Python 3",
   "language": "python",
   "name": "python3"
  },
  "language_info": {
   "codemirror_mode": {
    "name": "ipython",
    "version": 3
   },
   "file_extension": ".py",
   "mimetype": "text/x-python",
   "name": "python",
   "nbconvert_exporter": "python",
   "pygments_lexer": "ipython3",
   "version": "3.7.3"
  }
 },
 "nbformat": 4,
 "nbformat_minor": 2
}
